{
  "nbformat": 4,
  "nbformat_minor": 0,
  "metadata": {
    "colab": {
      "provenance": [],
      "authorship_tag": "ABX9TyNjkTgNAJBYa7R/WT8Q0kZq",
      "include_colab_link": true
    },
    "kernelspec": {
      "name": "python3",
      "display_name": "Python 3"
    },
    "language_info": {
      "name": "python"
    }
  },
  "cells": [
    {
      "cell_type": "markdown",
      "metadata": {
        "id": "view-in-github",
        "colab_type": "text"
      },
      "source": [
        "<a href=\"https://colab.research.google.com/github/shivpandey2406/Machine-Learning-Project/blob/main/SVC%20using%20different%20kernel.ipynb\" target=\"_parent\"><img src=\"https://colab.research.google.com/assets/colab-badge.svg\" alt=\"Open In Colab\"/></a>"
      ]
    },
    {
      "cell_type": "markdown",
      "source": [
        "## Import  libraries"
      ],
      "metadata": {
        "id": "Fb3fuGYxjJyL"
      }
    },
    {
      "cell_type": "code",
      "source": [
        "import numpy as np\n",
        "import matplotlib.pyplot as plt\n",
        "import pandas as pd"
      ],
      "metadata": {
        "id": "cVaU-oTYjOXJ"
      },
      "execution_count": 1,
      "outputs": []
    },
    {
      "cell_type": "markdown",
      "source": [
        "## Import the data"
      ],
      "metadata": {
        "id": "lpSIxm3PjTJs"
      }
    },
    {
      "cell_type": "code",
      "source": [
        "dataset = pd.read_csv('/content/Social_Network_ads.csv')\n",
        "dataset.head()"
      ],
      "metadata": {
        "colab": {
          "base_uri": "https://localhost:8080/",
          "height": 206
        },
        "id": "UpGnwDbkjZl9",
        "outputId": "6a97477e-c855-4378-f287-863653000089"
      },
      "execution_count": 5,
      "outputs": [
        {
          "output_type": "execute_result",
          "data": {
            "text/plain": [
              "    User ID  Gender  Age  EstimatedSalary  Purchased\n",
              "0  15624510    Male   19            19000          0\n",
              "1  15810944    Male   35            20000          0\n",
              "2  15668575  Female   26            43000          0\n",
              "3  15603246  Female   27            57000          0\n",
              "4  15804002    Male   19            76000          0"
            ],
            "text/html": [
              "\n",
              "  <div id=\"df-dcd55b3a-6dea-4205-aa6f-071db9b778c7\" class=\"colab-df-container\">\n",
              "    <div>\n",
              "<style scoped>\n",
              "    .dataframe tbody tr th:only-of-type {\n",
              "        vertical-align: middle;\n",
              "    }\n",
              "\n",
              "    .dataframe tbody tr th {\n",
              "        vertical-align: top;\n",
              "    }\n",
              "\n",
              "    .dataframe thead th {\n",
              "        text-align: right;\n",
              "    }\n",
              "</style>\n",
              "<table border=\"1\" class=\"dataframe\">\n",
              "  <thead>\n",
              "    <tr style=\"text-align: right;\">\n",
              "      <th></th>\n",
              "      <th>User ID</th>\n",
              "      <th>Gender</th>\n",
              "      <th>Age</th>\n",
              "      <th>EstimatedSalary</th>\n",
              "      <th>Purchased</th>\n",
              "    </tr>\n",
              "  </thead>\n",
              "  <tbody>\n",
              "    <tr>\n",
              "      <th>0</th>\n",
              "      <td>15624510</td>\n",
              "      <td>Male</td>\n",
              "      <td>19</td>\n",
              "      <td>19000</td>\n",
              "      <td>0</td>\n",
              "    </tr>\n",
              "    <tr>\n",
              "      <th>1</th>\n",
              "      <td>15810944</td>\n",
              "      <td>Male</td>\n",
              "      <td>35</td>\n",
              "      <td>20000</td>\n",
              "      <td>0</td>\n",
              "    </tr>\n",
              "    <tr>\n",
              "      <th>2</th>\n",
              "      <td>15668575</td>\n",
              "      <td>Female</td>\n",
              "      <td>26</td>\n",
              "      <td>43000</td>\n",
              "      <td>0</td>\n",
              "    </tr>\n",
              "    <tr>\n",
              "      <th>3</th>\n",
              "      <td>15603246</td>\n",
              "      <td>Female</td>\n",
              "      <td>27</td>\n",
              "      <td>57000</td>\n",
              "      <td>0</td>\n",
              "    </tr>\n",
              "    <tr>\n",
              "      <th>4</th>\n",
              "      <td>15804002</td>\n",
              "      <td>Male</td>\n",
              "      <td>19</td>\n",
              "      <td>76000</td>\n",
              "      <td>0</td>\n",
              "    </tr>\n",
              "  </tbody>\n",
              "</table>\n",
              "</div>\n",
              "    <div class=\"colab-df-buttons\">\n",
              "\n",
              "  <div class=\"colab-df-container\">\n",
              "    <button class=\"colab-df-convert\" onclick=\"convertToInteractive('df-dcd55b3a-6dea-4205-aa6f-071db9b778c7')\"\n",
              "            title=\"Convert this dataframe to an interactive table.\"\n",
              "            style=\"display:none;\">\n",
              "\n",
              "  <svg xmlns=\"http://www.w3.org/2000/svg\" height=\"24px\" viewBox=\"0 -960 960 960\">\n",
              "    <path d=\"M120-120v-720h720v720H120Zm60-500h600v-160H180v160Zm220 220h160v-160H400v160Zm0 220h160v-160H400v160ZM180-400h160v-160H180v160Zm440 0h160v-160H620v160ZM180-180h160v-160H180v160Zm440 0h160v-160H620v160Z\"/>\n",
              "  </svg>\n",
              "    </button>\n",
              "\n",
              "  <style>\n",
              "    .colab-df-container {\n",
              "      display:flex;\n",
              "      gap: 12px;\n",
              "    }\n",
              "\n",
              "    .colab-df-convert {\n",
              "      background-color: #E8F0FE;\n",
              "      border: none;\n",
              "      border-radius: 50%;\n",
              "      cursor: pointer;\n",
              "      display: none;\n",
              "      fill: #1967D2;\n",
              "      height: 32px;\n",
              "      padding: 0 0 0 0;\n",
              "      width: 32px;\n",
              "    }\n",
              "\n",
              "    .colab-df-convert:hover {\n",
              "      background-color: #E2EBFA;\n",
              "      box-shadow: 0px 1px 2px rgba(60, 64, 67, 0.3), 0px 1px 3px 1px rgba(60, 64, 67, 0.15);\n",
              "      fill: #174EA6;\n",
              "    }\n",
              "\n",
              "    .colab-df-buttons div {\n",
              "      margin-bottom: 4px;\n",
              "    }\n",
              "\n",
              "    [theme=dark] .colab-df-convert {\n",
              "      background-color: #3B4455;\n",
              "      fill: #D2E3FC;\n",
              "    }\n",
              "\n",
              "    [theme=dark] .colab-df-convert:hover {\n",
              "      background-color: #434B5C;\n",
              "      box-shadow: 0px 1px 3px 1px rgba(0, 0, 0, 0.15);\n",
              "      filter: drop-shadow(0px 1px 2px rgba(0, 0, 0, 0.3));\n",
              "      fill: #FFFFFF;\n",
              "    }\n",
              "  </style>\n",
              "\n",
              "    <script>\n",
              "      const buttonEl =\n",
              "        document.querySelector('#df-dcd55b3a-6dea-4205-aa6f-071db9b778c7 button.colab-df-convert');\n",
              "      buttonEl.style.display =\n",
              "        google.colab.kernel.accessAllowed ? 'block' : 'none';\n",
              "\n",
              "      async function convertToInteractive(key) {\n",
              "        const element = document.querySelector('#df-dcd55b3a-6dea-4205-aa6f-071db9b778c7');\n",
              "        const dataTable =\n",
              "          await google.colab.kernel.invokeFunction('convertToInteractive',\n",
              "                                                    [key], {});\n",
              "        if (!dataTable) return;\n",
              "\n",
              "        const docLinkHtml = 'Like what you see? Visit the ' +\n",
              "          '<a target=\"_blank\" href=https://colab.research.google.com/notebooks/data_table.ipynb>data table notebook</a>'\n",
              "          + ' to learn more about interactive tables.';\n",
              "        element.innerHTML = '';\n",
              "        dataTable['output_type'] = 'display_data';\n",
              "        await google.colab.output.renderOutput(dataTable, element);\n",
              "        const docLink = document.createElement('div');\n",
              "        docLink.innerHTML = docLinkHtml;\n",
              "        element.appendChild(docLink);\n",
              "      }\n",
              "    </script>\n",
              "  </div>\n",
              "\n",
              "\n",
              "<div id=\"df-0e05fa1f-fd4c-41ae-9b48-3f1b003e4f3b\">\n",
              "  <button class=\"colab-df-quickchart\" onclick=\"quickchart('df-0e05fa1f-fd4c-41ae-9b48-3f1b003e4f3b')\"\n",
              "            title=\"Suggest charts\"\n",
              "            style=\"display:none;\">\n",
              "\n",
              "<svg xmlns=\"http://www.w3.org/2000/svg\" height=\"24px\"viewBox=\"0 0 24 24\"\n",
              "     width=\"24px\">\n",
              "    <g>\n",
              "        <path d=\"M19 3H5c-1.1 0-2 .9-2 2v14c0 1.1.9 2 2 2h14c1.1 0 2-.9 2-2V5c0-1.1-.9-2-2-2zM9 17H7v-7h2v7zm4 0h-2V7h2v10zm4 0h-2v-4h2v4z\"/>\n",
              "    </g>\n",
              "</svg>\n",
              "  </button>\n",
              "\n",
              "<style>\n",
              "  .colab-df-quickchart {\n",
              "      --bg-color: #E8F0FE;\n",
              "      --fill-color: #1967D2;\n",
              "      --hover-bg-color: #E2EBFA;\n",
              "      --hover-fill-color: #174EA6;\n",
              "      --disabled-fill-color: #AAA;\n",
              "      --disabled-bg-color: #DDD;\n",
              "  }\n",
              "\n",
              "  [theme=dark] .colab-df-quickchart {\n",
              "      --bg-color: #3B4455;\n",
              "      --fill-color: #D2E3FC;\n",
              "      --hover-bg-color: #434B5C;\n",
              "      --hover-fill-color: #FFFFFF;\n",
              "      --disabled-bg-color: #3B4455;\n",
              "      --disabled-fill-color: #666;\n",
              "  }\n",
              "\n",
              "  .colab-df-quickchart {\n",
              "    background-color: var(--bg-color);\n",
              "    border: none;\n",
              "    border-radius: 50%;\n",
              "    cursor: pointer;\n",
              "    display: none;\n",
              "    fill: var(--fill-color);\n",
              "    height: 32px;\n",
              "    padding: 0;\n",
              "    width: 32px;\n",
              "  }\n",
              "\n",
              "  .colab-df-quickchart:hover {\n",
              "    background-color: var(--hover-bg-color);\n",
              "    box-shadow: 0 1px 2px rgba(60, 64, 67, 0.3), 0 1px 3px 1px rgba(60, 64, 67, 0.15);\n",
              "    fill: var(--button-hover-fill-color);\n",
              "  }\n",
              "\n",
              "  .colab-df-quickchart-complete:disabled,\n",
              "  .colab-df-quickchart-complete:disabled:hover {\n",
              "    background-color: var(--disabled-bg-color);\n",
              "    fill: var(--disabled-fill-color);\n",
              "    box-shadow: none;\n",
              "  }\n",
              "\n",
              "  .colab-df-spinner {\n",
              "    border: 2px solid var(--fill-color);\n",
              "    border-color: transparent;\n",
              "    border-bottom-color: var(--fill-color);\n",
              "    animation:\n",
              "      spin 1s steps(1) infinite;\n",
              "  }\n",
              "\n",
              "  @keyframes spin {\n",
              "    0% {\n",
              "      border-color: transparent;\n",
              "      border-bottom-color: var(--fill-color);\n",
              "      border-left-color: var(--fill-color);\n",
              "    }\n",
              "    20% {\n",
              "      border-color: transparent;\n",
              "      border-left-color: var(--fill-color);\n",
              "      border-top-color: var(--fill-color);\n",
              "    }\n",
              "    30% {\n",
              "      border-color: transparent;\n",
              "      border-left-color: var(--fill-color);\n",
              "      border-top-color: var(--fill-color);\n",
              "      border-right-color: var(--fill-color);\n",
              "    }\n",
              "    40% {\n",
              "      border-color: transparent;\n",
              "      border-right-color: var(--fill-color);\n",
              "      border-top-color: var(--fill-color);\n",
              "    }\n",
              "    60% {\n",
              "      border-color: transparent;\n",
              "      border-right-color: var(--fill-color);\n",
              "    }\n",
              "    80% {\n",
              "      border-color: transparent;\n",
              "      border-right-color: var(--fill-color);\n",
              "      border-bottom-color: var(--fill-color);\n",
              "    }\n",
              "    90% {\n",
              "      border-color: transparent;\n",
              "      border-bottom-color: var(--fill-color);\n",
              "    }\n",
              "  }\n",
              "</style>\n",
              "\n",
              "  <script>\n",
              "    async function quickchart(key) {\n",
              "      const quickchartButtonEl =\n",
              "        document.querySelector('#' + key + ' button');\n",
              "      quickchartButtonEl.disabled = true;  // To prevent multiple clicks.\n",
              "      quickchartButtonEl.classList.add('colab-df-spinner');\n",
              "      try {\n",
              "        const charts = await google.colab.kernel.invokeFunction(\n",
              "            'suggestCharts', [key], {});\n",
              "      } catch (error) {\n",
              "        console.error('Error during call to suggestCharts:', error);\n",
              "      }\n",
              "      quickchartButtonEl.classList.remove('colab-df-spinner');\n",
              "      quickchartButtonEl.classList.add('colab-df-quickchart-complete');\n",
              "    }\n",
              "    (() => {\n",
              "      let quickchartButtonEl =\n",
              "        document.querySelector('#df-0e05fa1f-fd4c-41ae-9b48-3f1b003e4f3b button');\n",
              "      quickchartButtonEl.style.display =\n",
              "        google.colab.kernel.accessAllowed ? 'block' : 'none';\n",
              "    })();\n",
              "  </script>\n",
              "</div>\n",
              "\n",
              "    </div>\n",
              "  </div>\n"
            ]
          },
          "metadata": {},
          "execution_count": 5
        }
      ]
    },
    {
      "cell_type": "markdown",
      "source": [
        "## We do not necessarily need all the columns to make an analysis. So we will take only the age and salary column as the feature values."
      ],
      "metadata": {
        "id": "AmWYUcu2jvL9"
      }
    },
    {
      "cell_type": "code",
      "source": [
        "X = dataset.iloc[:, [2, 3]].values\n",
        "y = dataset.iloc[:, 4].values\n",
        "#X\n",
        "#y"
      ],
      "metadata": {
        "colab": {
          "base_uri": "https://localhost:8080/"
        },
        "id": "4DG92Mq8j0wo",
        "outputId": "59102453-0f5d-4652-a80e-5d7f5c895317"
      },
      "execution_count": 8,
      "outputs": [
        {
          "output_type": "execute_result",
          "data": {
            "text/plain": [
              "array([0, 0, 0, 0, 0, 0, 0, 1, 0, 0, 0, 0, 0, 0, 0, 0, 1, 1, 1, 1, 1, 1,\n",
              "       1, 1, 1, 1, 1, 1, 0, 0, 0, 1, 0, 0, 0, 0, 0, 0, 0, 0, 0, 0, 0, 0,\n",
              "       0, 0, 0, 0, 1, 0, 0, 0, 0, 0, 0, 0, 0, 0, 0, 0, 0, 0, 0, 1, 0, 0,\n",
              "       0, 0, 0, 0, 0, 0, 0, 0, 0, 1, 0, 0, 0, 0, 0, 0, 0, 0, 0, 1, 0, 0,\n",
              "       0, 0, 0, 0, 0, 0, 0, 0, 0, 1, 0, 0, 0, 0, 0, 1, 0, 0, 0, 0, 0, 0,\n",
              "       0, 0, 0, 0, 0, 0, 0, 0, 0, 0, 0, 0, 0, 0, 0, 0, 0, 0, 0, 0, 0, 0,\n",
              "       0, 0, 0, 0, 0, 1, 0, 0, 0, 0, 0, 0, 0, 0, 1, 0, 0, 0, 0, 0, 0, 0,\n",
              "       0, 0, 0, 0, 0, 1, 1, 0, 0, 0, 0, 0, 0, 0, 1, 0, 0, 0, 0, 0, 0, 0,\n",
              "       0, 0, 0, 0, 0, 0, 1, 0, 0, 0, 0, 0, 0, 0, 0, 0, 0, 0, 0, 0, 0, 0,\n",
              "       0, 0, 0, 0, 1, 0, 1, 0, 1, 0, 1, 0, 1, 1, 0, 0, 0, 1, 0, 0, 0, 1,\n",
              "       0, 1, 1, 1, 0, 0, 1, 1, 0, 1, 1, 0, 1, 1, 0, 1, 0, 0, 0, 1, 1, 0,\n",
              "       1, 1, 0, 1, 0, 1, 0, 1, 0, 0, 1, 1, 0, 1, 0, 0, 1, 1, 0, 1, 1, 0,\n",
              "       1, 1, 0, 0, 1, 0, 0, 1, 1, 1, 1, 1, 0, 1, 1, 1, 1, 0, 1, 1, 0, 1,\n",
              "       0, 1, 0, 1, 1, 1, 1, 0, 0, 0, 1, 1, 0, 1, 1, 1, 1, 1, 0, 0, 0, 1,\n",
              "       1, 0, 0, 1, 0, 1, 0, 1, 1, 0, 1, 0, 1, 1, 0, 1, 1, 0, 0, 0, 1, 1,\n",
              "       0, 1, 0, 0, 1, 0, 1, 0, 0, 1, 1, 0, 0, 1, 1, 0, 1, 1, 0, 0, 1, 0,\n",
              "       1, 0, 1, 1, 1, 0, 1, 0, 1, 1, 1, 0, 1, 1, 1, 1, 0, 1, 1, 1, 0, 1,\n",
              "       0, 1, 0, 0, 1, 1, 0, 1, 1, 1, 1, 1, 1, 0, 1, 1, 1, 1, 1, 1, 0, 1,\n",
              "       1, 1, 0, 1])"
            ]
          },
          "metadata": {},
          "execution_count": 8
        }
      ]
    },
    {
      "cell_type": "markdown",
      "source": [
        "## Now we will split the data into training and testing. We will take 75% of the data for training and test it on the rest which makes 25%."
      ],
      "metadata": {
        "id": "SNPaSexJkEM0"
      }
    },
    {
      "cell_type": "code",
      "source": [
        "from sklearn.model_selection import train_test_split\n",
        "X_train, X_test, y_train, y_test = train_test_split(X, y, test_size = 0.25, random_state = 0)"
      ],
      "metadata": {
        "id": "phMSut51kKgA"
      },
      "execution_count": 9,
      "outputs": []
    },
    {
      "cell_type": "markdown",
      "source": [
        "## After splitting, we will scale the feature to expect normal distribution of the data. We will use Standard Scaler in this case."
      ],
      "metadata": {
        "id": "iBaJW7j9kQSI"
      }
    },
    {
      "cell_type": "code",
      "source": [
        "from sklearn.preprocessing import StandardScaler\n",
        "sc = StandardScaler()\n",
        "X_train = sc.fit_transform(X_train)\n",
        "X_test = sc.transform(X_test)\n",
        "X_train"
      ],
      "metadata": {
        "colab": {
          "base_uri": "https://localhost:8080/"
        },
        "id": "tsiJ4W2EkWcZ",
        "outputId": "54e882d3-b34a-4d99-c64e-d2f6bb5b1a14"
      },
      "execution_count": 11,
      "outputs": [
        {
          "output_type": "execute_result",
          "data": {
            "text/plain": [
              "array([[ 0.58164944, -0.88670699],\n",
              "       [-0.60673761,  1.46173768],\n",
              "       [-0.01254409, -0.5677824 ],\n",
              "       [-0.60673761,  1.89663484],\n",
              "       [ 1.37390747, -1.40858358],\n",
              "       [ 1.47293972,  0.99784738],\n",
              "       [ 0.08648817, -0.79972756],\n",
              "       [-0.01254409, -0.24885782],\n",
              "       [-0.21060859, -0.5677824 ],\n",
              "       [-0.21060859, -0.19087153],\n",
              "       [-0.30964085, -1.29261101],\n",
              "       [-0.30964085, -0.5677824 ],\n",
              "       [ 0.38358493,  0.09905991],\n",
              "       [ 0.8787462 , -0.59677555],\n",
              "       [ 2.06713324, -1.17663843],\n",
              "       [ 1.07681071, -0.13288524],\n",
              "       [ 0.68068169,  1.78066227],\n",
              "       [-0.70576986,  0.56295021],\n",
              "       [ 0.77971394,  0.35999821],\n",
              "       [ 0.8787462 , -0.53878926],\n",
              "       [-1.20093113, -1.58254245],\n",
              "       [ 2.1661655 ,  0.93986109],\n",
              "       [-0.01254409,  1.22979253],\n",
              "       [ 0.18552042,  1.08482681],\n",
              "       [ 0.38358493, -0.48080297],\n",
              "       [-0.30964085, -0.30684411],\n",
              "       [ 0.97777845, -0.8287207 ],\n",
              "       [ 0.97777845,  1.8676417 ],\n",
              "       [-0.01254409,  1.25878567],\n",
              "       [-0.90383437,  2.27354572],\n",
              "       [-1.20093113, -1.58254245],\n",
              "       [ 2.1661655 , -0.79972756],\n",
              "       [-1.39899564, -1.46656987],\n",
              "       [ 0.38358493,  2.30253886],\n",
              "       [ 0.77971394,  0.76590222],\n",
              "       [-1.00286662, -0.30684411],\n",
              "       [ 0.08648817,  0.76590222],\n",
              "       [-1.00286662,  0.56295021],\n",
              "       [ 0.28455268,  0.07006676],\n",
              "       [ 0.68068169, -1.26361786],\n",
              "       [-0.50770535, -0.01691267],\n",
              "       [-1.79512465,  0.35999821],\n",
              "       [-0.70576986,  0.12805305],\n",
              "       [ 0.38358493,  0.30201192],\n",
              "       [-0.30964085,  0.07006676],\n",
              "       [-0.50770535,  2.30253886],\n",
              "       [ 0.18552042,  0.04107362],\n",
              "       [ 1.27487521,  2.21555943],\n",
              "       [ 0.77971394,  0.27301877],\n",
              "       [-0.30964085,  0.1570462 ],\n",
              "       [-0.01254409, -0.53878926],\n",
              "       [-0.21060859,  0.1570462 ],\n",
              "       [-0.11157634,  0.24402563],\n",
              "       [-0.01254409, -0.24885782],\n",
              "       [ 2.1661655 ,  1.11381995],\n",
              "       [-1.79512465,  0.35999821],\n",
              "       [ 1.86906873,  0.12805305],\n",
              "       [ 0.38358493, -0.13288524],\n",
              "       [-1.20093113,  0.30201192],\n",
              "       [ 0.77971394,  1.37475825],\n",
              "       [-0.30964085, -0.24885782],\n",
              "       [-1.6960924 , -0.04590581],\n",
              "       [-1.00286662, -0.74174127],\n",
              "       [ 0.28455268,  0.50496393],\n",
              "       [-0.11157634, -1.06066585],\n",
              "       [-1.10189888,  0.59194336],\n",
              "       [ 0.08648817, -0.79972756],\n",
              "       [-1.00286662,  1.54871711],\n",
              "       [-0.70576986,  1.40375139],\n",
              "       [-1.29996338,  0.50496393],\n",
              "       [-0.30964085,  0.04107362],\n",
              "       [-0.11157634,  0.01208048],\n",
              "       [-0.30964085, -0.88670699],\n",
              "       [ 0.8787462 , -1.3505973 ],\n",
              "       [-0.30964085,  2.24455257],\n",
              "       [ 0.97777845,  1.98361427],\n",
              "       [-1.20093113,  0.47597078],\n",
              "       [-1.29996338,  0.27301877],\n",
              "       [ 1.37390747,  1.98361427],\n",
              "       [ 1.27487521, -1.3505973 ],\n",
              "       [-0.30964085, -0.27785096],\n",
              "       [-0.50770535,  1.25878567],\n",
              "       [-0.80480212,  1.08482681],\n",
              "       [ 0.97777845, -1.06066585],\n",
              "       [ 0.28455268,  0.30201192],\n",
              "       [ 0.97777845,  0.76590222],\n",
              "       [-0.70576986, -1.49556302],\n",
              "       [-0.70576986,  0.04107362],\n",
              "       [ 0.48261718,  1.72267598],\n",
              "       [ 2.06713324,  0.18603934],\n",
              "       [-1.99318916, -0.74174127],\n",
              "       [-0.21060859,  1.40375139],\n",
              "       [ 0.38358493,  0.59194336],\n",
              "       [ 0.8787462 , -1.14764529],\n",
              "       [-1.20093113, -0.77073441],\n",
              "       [ 0.18552042,  0.24402563],\n",
              "       [ 0.77971394, -0.30684411],\n",
              "       [ 2.06713324, -0.79972756],\n",
              "       [ 0.77971394,  0.12805305],\n",
              "       [-0.30964085,  0.6209365 ],\n",
              "       [-1.00286662, -0.30684411],\n",
              "       [ 0.18552042, -0.3648304 ],\n",
              "       [ 2.06713324,  2.12857999],\n",
              "       [ 1.86906873, -1.26361786],\n",
              "       [ 1.37390747, -0.91570013],\n",
              "       [ 0.8787462 ,  1.25878567],\n",
              "       [ 1.47293972,  2.12857999],\n",
              "       [-0.30964085, -1.23462472],\n",
              "       [ 1.96810099,  0.91086794],\n",
              "       [ 0.68068169, -0.71274813],\n",
              "       [-1.49802789,  0.35999821],\n",
              "       [ 0.77971394, -1.3505973 ],\n",
              "       [ 0.38358493, -0.13288524],\n",
              "       [-1.00286662,  0.41798449],\n",
              "       [-0.01254409, -0.30684411],\n",
              "       [-1.20093113,  0.41798449],\n",
              "       [-0.90383437, -1.20563157],\n",
              "       [-0.11157634,  0.04107362],\n",
              "       [-1.59706014, -0.42281668],\n",
              "       [ 0.97777845, -1.00267957],\n",
              "       [ 1.07681071, -1.20563157],\n",
              "       [-0.01254409, -0.13288524],\n",
              "       [-1.10189888, -1.52455616],\n",
              "       [ 0.77971394, -1.20563157],\n",
              "       [ 0.97777845,  2.07059371],\n",
              "       [-1.20093113, -1.52455616],\n",
              "       [-0.30964085,  0.79489537],\n",
              "       [ 0.08648817, -0.30684411],\n",
              "       [-1.39899564, -1.23462472],\n",
              "       [-0.60673761, -1.49556302],\n",
              "       [ 0.77971394,  0.53395707],\n",
              "       [-0.30964085, -0.33583725],\n",
              "       [ 1.77003648, -0.27785096],\n",
              "       [ 0.8787462 , -1.03167271],\n",
              "       [ 0.18552042,  0.07006676],\n",
              "       [-0.60673761,  0.8818748 ],\n",
              "       [-1.89415691, -1.40858358],\n",
              "       [-1.29996338,  0.59194336],\n",
              "       [-0.30964085,  0.53395707],\n",
              "       [-1.00286662, -1.089659  ],\n",
              "       [ 1.17584296, -1.43757673],\n",
              "       [ 0.18552042, -0.30684411],\n",
              "       [ 1.17584296, -0.74174127],\n",
              "       [-0.30964085,  0.07006676],\n",
              "       [ 0.18552042,  2.09958685],\n",
              "       [ 0.77971394, -1.089659  ],\n",
              "       [ 0.08648817,  0.04107362],\n",
              "       [-1.79512465,  0.12805305],\n",
              "       [-0.90383437,  0.1570462 ],\n",
              "       [-0.70576986,  0.18603934],\n",
              "       [ 0.8787462 , -1.29261101],\n",
              "       [ 0.18552042, -0.24885782],\n",
              "       [-0.4086731 ,  1.22979253],\n",
              "       [-0.01254409,  0.30201192],\n",
              "       [ 0.38358493,  0.1570462 ],\n",
              "       [ 0.8787462 , -0.65476184],\n",
              "       [ 0.08648817,  0.1570462 ],\n",
              "       [-1.89415691, -1.29261101],\n",
              "       [-0.11157634,  0.30201192],\n",
              "       [-0.21060859, -0.27785096],\n",
              "       [ 0.28455268, -0.50979612],\n",
              "       [-0.21060859,  1.6067034 ],\n",
              "       [ 0.97777845, -1.17663843],\n",
              "       [-0.21060859,  1.63569655],\n",
              "       [ 1.27487521,  1.8676417 ],\n",
              "       [-1.10189888, -0.3648304 ],\n",
              "       [-0.01254409,  0.04107362],\n",
              "       [ 0.08648817, -0.24885782],\n",
              "       [-1.59706014, -1.23462472],\n",
              "       [-0.50770535, -0.27785096],\n",
              "       [ 0.97777845,  0.12805305],\n",
              "       [ 1.96810099, -1.3505973 ],\n",
              "       [ 1.47293972,  0.07006676],\n",
              "       [-0.60673761,  1.37475825],\n",
              "       [ 1.57197197,  0.01208048],\n",
              "       [-0.80480212,  0.30201192],\n",
              "       [ 1.96810099,  0.73690908],\n",
              "       [-1.20093113, -0.50979612],\n",
              "       [ 0.68068169,  0.27301877],\n",
              "       [-1.39899564, -0.42281668],\n",
              "       [ 0.18552042,  0.1570462 ],\n",
              "       [-0.50770535, -1.20563157],\n",
              "       [ 0.58164944,  2.01260742],\n",
              "       [-1.59706014, -1.49556302],\n",
              "       [-0.50770535, -0.53878926],\n",
              "       [ 0.48261718,  1.83864855],\n",
              "       [-1.39899564, -1.089659  ],\n",
              "       [ 0.77971394, -1.37959044],\n",
              "       [-0.30964085, -0.42281668],\n",
              "       [ 1.57197197,  0.99784738],\n",
              "       [ 0.97777845,  1.43274454],\n",
              "       [-0.30964085, -0.48080297],\n",
              "       [-0.11157634,  2.15757314],\n",
              "       [-1.49802789, -0.1038921 ],\n",
              "       [-0.11157634,  1.95462113],\n",
              "       [-0.70576986, -0.33583725],\n",
              "       [-0.50770535, -0.8287207 ],\n",
              "       [ 0.68068169, -1.37959044],\n",
              "       [-0.80480212, -1.58254245],\n",
              "       [-1.89415691, -1.46656987],\n",
              "       [ 1.07681071,  0.12805305],\n",
              "       [ 0.08648817,  1.51972397],\n",
              "       [-0.30964085,  0.09905991],\n",
              "       [ 0.08648817,  0.04107362],\n",
              "       [-1.39899564, -1.3505973 ],\n",
              "       [ 0.28455268,  0.07006676],\n",
              "       [-0.90383437,  0.38899135],\n",
              "       [ 1.57197197, -1.26361786],\n",
              "       [-0.30964085, -0.74174127],\n",
              "       [-0.11157634,  0.1570462 ],\n",
              "       [-0.90383437, -0.65476184],\n",
              "       [-0.70576986, -0.04590581],\n",
              "       [ 0.38358493, -0.45180983],\n",
              "       [-0.80480212,  1.89663484],\n",
              "       [ 1.37390747,  1.28777882],\n",
              "       [ 1.17584296, -0.97368642],\n",
              "       [ 1.77003648,  1.83864855],\n",
              "       [-0.90383437, -0.24885782],\n",
              "       [-0.80480212,  0.56295021],\n",
              "       [-1.20093113, -1.5535493 ],\n",
              "       [-0.50770535, -1.11865214],\n",
              "       [ 0.28455268,  0.07006676],\n",
              "       [-0.21060859, -1.06066585],\n",
              "       [ 1.67100423,  1.6067034 ],\n",
              "       [ 0.97777845,  1.78066227],\n",
              "       [ 0.28455268,  0.04107362],\n",
              "       [-0.80480212, -0.21986468],\n",
              "       [-0.11157634,  0.07006676],\n",
              "       [ 0.28455268, -0.19087153],\n",
              "       [ 1.96810099, -0.65476184],\n",
              "       [-0.80480212,  1.3457651 ],\n",
              "       [-1.79512465, -0.59677555],\n",
              "       [-0.11157634,  0.12805305],\n",
              "       [ 0.28455268, -0.30684411],\n",
              "       [ 1.07681071,  0.56295021],\n",
              "       [-1.00286662,  0.27301877],\n",
              "       [ 1.47293972,  0.35999821],\n",
              "       [ 0.18552042, -0.3648304 ],\n",
              "       [ 2.1661655 , -1.03167271],\n",
              "       [-0.30964085,  1.11381995],\n",
              "       [-1.6960924 ,  0.07006676],\n",
              "       [-0.01254409,  0.04107362],\n",
              "       [ 0.08648817,  1.05583366],\n",
              "       [-0.11157634, -0.3648304 ],\n",
              "       [-1.20093113,  0.07006676],\n",
              "       [-0.30964085, -1.3505973 ],\n",
              "       [ 1.57197197,  1.11381995],\n",
              "       [-0.80480212, -1.52455616],\n",
              "       [ 0.08648817,  1.8676417 ],\n",
              "       [-0.90383437, -0.77073441],\n",
              "       [-0.50770535, -0.77073441],\n",
              "       [-0.30964085, -0.91570013],\n",
              "       [ 0.28455268, -0.71274813],\n",
              "       [ 0.28455268,  0.07006676],\n",
              "       [ 0.08648817,  1.8676417 ],\n",
              "       [-1.10189888,  1.95462113],\n",
              "       [-1.6960924 , -1.5535493 ],\n",
              "       [-1.20093113, -1.089659  ],\n",
              "       [-0.70576986, -0.1038921 ],\n",
              "       [ 0.08648817,  0.09905991],\n",
              "       [ 0.28455268,  0.27301877],\n",
              "       [ 0.8787462 , -0.5677824 ],\n",
              "       [ 0.28455268, -1.14764529],\n",
              "       [-0.11157634,  0.67892279],\n",
              "       [ 2.1661655 , -0.68375498],\n",
              "       [-1.29996338, -1.37959044],\n",
              "       [-1.00286662, -0.94469328],\n",
              "       [-0.01254409, -0.42281668],\n",
              "       [-0.21060859, -0.45180983],\n",
              "       [-1.79512465, -0.97368642],\n",
              "       [ 1.77003648,  0.99784738],\n",
              "       [ 0.18552042, -0.3648304 ],\n",
              "       [ 0.38358493,  1.11381995],\n",
              "       [-1.79512465, -1.3505973 ],\n",
              "       [ 0.18552042, -0.13288524],\n",
              "       [ 0.8787462 , -1.43757673],\n",
              "       [-1.99318916,  0.47597078],\n",
              "       [-0.30964085,  0.27301877],\n",
              "       [ 1.86906873, -1.06066585],\n",
              "       [-0.4086731 ,  0.07006676],\n",
              "       [ 1.07681071, -0.88670699],\n",
              "       [-1.10189888, -1.11865214],\n",
              "       [-1.89415691,  0.01208048],\n",
              "       [ 0.08648817,  0.27301877],\n",
              "       [-1.20093113,  0.33100506],\n",
              "       [-1.29996338,  0.30201192],\n",
              "       [-1.00286662,  0.44697764],\n",
              "       [ 1.67100423, -0.88670699],\n",
              "       [ 1.17584296,  0.53395707],\n",
              "       [ 1.07681071,  0.53395707],\n",
              "       [ 1.37390747,  2.331532  ],\n",
              "       [-0.30964085, -0.13288524],\n",
              "       [ 0.38358493, -0.45180983],\n",
              "       [-0.4086731 , -0.77073441],\n",
              "       [-0.11157634, -0.50979612],\n",
              "       [ 0.97777845, -1.14764529],\n",
              "       [-0.90383437, -0.77073441],\n",
              "       [-0.21060859, -0.50979612],\n",
              "       [-1.10189888, -0.45180983],\n",
              "       [-1.20093113,  1.40375139]])"
            ]
          },
          "metadata": {},
          "execution_count": 11
        }
      ]
    },
    {
      "cell_type": "markdown",
      "source": [
        "## We will apply three kernel tricks in this case and try evaluating them."
      ],
      "metadata": {
        "id": "uOsmBwFykp5Q"
      }
    },
    {
      "cell_type": "code",
      "source": [
        "from sklearn.svm import SVC"
      ],
      "metadata": {
        "id": "2r99UbaVkrQX"
      },
      "execution_count": 12,
      "outputs": []
    },
    {
      "cell_type": "markdown",
      "source": [
        "## Model for linear kernel"
      ],
      "metadata": {
        "id": "ymkodARskuXv"
      }
    },
    {
      "cell_type": "code",
      "source": [
        "classifier_linear = SVC (kernel = 'linear', random_state = 0)\n",
        "classifier_linear.fit(X_train, y_train)"
      ],
      "metadata": {
        "colab": {
          "base_uri": "https://localhost:8080/",
          "height": 75
        },
        "id": "Ho8sDIOekx0p",
        "outputId": "43c54c4c-1e33-4e6f-cdf1-c076db45341b"
      },
      "execution_count": 13,
      "outputs": [
        {
          "output_type": "execute_result",
          "data": {
            "text/plain": [
              "SVC(kernel='linear', random_state=0)"
            ],
            "text/html": [
              "<style>#sk-container-id-1 {color: black;background-color: white;}#sk-container-id-1 pre{padding: 0;}#sk-container-id-1 div.sk-toggleable {background-color: white;}#sk-container-id-1 label.sk-toggleable__label {cursor: pointer;display: block;width: 100%;margin-bottom: 0;padding: 0.3em;box-sizing: border-box;text-align: center;}#sk-container-id-1 label.sk-toggleable__label-arrow:before {content: \"▸\";float: left;margin-right: 0.25em;color: #696969;}#sk-container-id-1 label.sk-toggleable__label-arrow:hover:before {color: black;}#sk-container-id-1 div.sk-estimator:hover label.sk-toggleable__label-arrow:before {color: black;}#sk-container-id-1 div.sk-toggleable__content {max-height: 0;max-width: 0;overflow: hidden;text-align: left;background-color: #f0f8ff;}#sk-container-id-1 div.sk-toggleable__content pre {margin: 0.2em;color: black;border-radius: 0.25em;background-color: #f0f8ff;}#sk-container-id-1 input.sk-toggleable__control:checked~div.sk-toggleable__content {max-height: 200px;max-width: 100%;overflow: auto;}#sk-container-id-1 input.sk-toggleable__control:checked~label.sk-toggleable__label-arrow:before {content: \"▾\";}#sk-container-id-1 div.sk-estimator input.sk-toggleable__control:checked~label.sk-toggleable__label {background-color: #d4ebff;}#sk-container-id-1 div.sk-label input.sk-toggleable__control:checked~label.sk-toggleable__label {background-color: #d4ebff;}#sk-container-id-1 input.sk-hidden--visually {border: 0;clip: rect(1px 1px 1px 1px);clip: rect(1px, 1px, 1px, 1px);height: 1px;margin: -1px;overflow: hidden;padding: 0;position: absolute;width: 1px;}#sk-container-id-1 div.sk-estimator {font-family: monospace;background-color: #f0f8ff;border: 1px dotted black;border-radius: 0.25em;box-sizing: border-box;margin-bottom: 0.5em;}#sk-container-id-1 div.sk-estimator:hover {background-color: #d4ebff;}#sk-container-id-1 div.sk-parallel-item::after {content: \"\";width: 100%;border-bottom: 1px solid gray;flex-grow: 1;}#sk-container-id-1 div.sk-label:hover label.sk-toggleable__label {background-color: #d4ebff;}#sk-container-id-1 div.sk-serial::before {content: \"\";position: absolute;border-left: 1px solid gray;box-sizing: border-box;top: 0;bottom: 0;left: 50%;z-index: 0;}#sk-container-id-1 div.sk-serial {display: flex;flex-direction: column;align-items: center;background-color: white;padding-right: 0.2em;padding-left: 0.2em;position: relative;}#sk-container-id-1 div.sk-item {position: relative;z-index: 1;}#sk-container-id-1 div.sk-parallel {display: flex;align-items: stretch;justify-content: center;background-color: white;position: relative;}#sk-container-id-1 div.sk-item::before, #sk-container-id-1 div.sk-parallel-item::before {content: \"\";position: absolute;border-left: 1px solid gray;box-sizing: border-box;top: 0;bottom: 0;left: 50%;z-index: -1;}#sk-container-id-1 div.sk-parallel-item {display: flex;flex-direction: column;z-index: 1;position: relative;background-color: white;}#sk-container-id-1 div.sk-parallel-item:first-child::after {align-self: flex-end;width: 50%;}#sk-container-id-1 div.sk-parallel-item:last-child::after {align-self: flex-start;width: 50%;}#sk-container-id-1 div.sk-parallel-item:only-child::after {width: 0;}#sk-container-id-1 div.sk-dashed-wrapped {border: 1px dashed gray;margin: 0 0.4em 0.5em 0.4em;box-sizing: border-box;padding-bottom: 0.4em;background-color: white;}#sk-container-id-1 div.sk-label label {font-family: monospace;font-weight: bold;display: inline-block;line-height: 1.2em;}#sk-container-id-1 div.sk-label-container {text-align: center;}#sk-container-id-1 div.sk-container {/* jupyter's `normalize.less` sets `[hidden] { display: none; }` but bootstrap.min.css set `[hidden] { display: none !important; }` so we also need the `!important` here to be able to override the default hidden behavior on the sphinx rendered scikit-learn.org. See: https://github.com/scikit-learn/scikit-learn/issues/21755 */display: inline-block !important;position: relative;}#sk-container-id-1 div.sk-text-repr-fallback {display: none;}</style><div id=\"sk-container-id-1\" class=\"sk-top-container\"><div class=\"sk-text-repr-fallback\"><pre>SVC(kernel=&#x27;linear&#x27;, random_state=0)</pre><b>In a Jupyter environment, please rerun this cell to show the HTML representation or trust the notebook. <br />On GitHub, the HTML representation is unable to render, please try loading this page with nbviewer.org.</b></div><div class=\"sk-container\" hidden><div class=\"sk-item\"><div class=\"sk-estimator sk-toggleable\"><input class=\"sk-toggleable__control sk-hidden--visually\" id=\"sk-estimator-id-1\" type=\"checkbox\" checked><label for=\"sk-estimator-id-1\" class=\"sk-toggleable__label sk-toggleable__label-arrow\">SVC</label><div class=\"sk-toggleable__content\"><pre>SVC(kernel=&#x27;linear&#x27;, random_state=0)</pre></div></div></div></div></div>"
            ]
          },
          "metadata": {},
          "execution_count": 13
        }
      ]
    },
    {
      "cell_type": "markdown",
      "source": [
        "## Predict our test data."
      ],
      "metadata": {
        "id": "-ZPIMMv_k6Qy"
      }
    },
    {
      "cell_type": "code",
      "source": [
        "y_pred_linear = classifier.predict(X_test)\n",
        "y_pred_linear"
      ],
      "metadata": {
        "colab": {
          "base_uri": "https://localhost:8080/"
        },
        "id": "lCIIZwAhk8lv",
        "outputId": "1b54e91b-2f0e-4b14-e3d4-96c96f191819"
      },
      "execution_count": 23,
      "outputs": [
        {
          "output_type": "execute_result",
          "data": {
            "text/plain": [
              "array([0, 0, 0, 0, 0, 0, 0, 1, 0, 0, 0, 0, 0, 0, 0, 0, 0, 0, 1, 0, 0, 1,\n",
              "       0, 1, 0, 1, 0, 0, 0, 0, 0, 0, 1, 0, 0, 0, 0, 0, 0, 1, 0, 0, 0, 0,\n",
              "       1, 0, 0, 1, 0, 1, 1, 0, 0, 0, 1, 0, 0, 0, 0, 0, 0, 1, 0, 0, 0, 1,\n",
              "       0, 0, 0, 0, 1, 0, 0, 0, 0, 0, 1, 0, 1, 1, 1, 1, 0, 0, 1, 1, 0, 1,\n",
              "       0, 0, 0, 1, 0, 0, 0, 0, 0, 0, 1, 1])"
            ]
          },
          "metadata": {},
          "execution_count": 23
        }
      ]
    },
    {
      "cell_type": "markdown",
      "source": [
        "## Polynomial kernel"
      ],
      "metadata": {
        "id": "3tQ1zW6PnII2"
      }
    },
    {
      "cell_type": "code",
      "source": [
        "classifier_poly= SVC (kernel = 'poly', random_state = 0)\n",
        "classifier_poly.fit(X_train, y_train)\n",
        "y_pred_poly = classifier_poly.predict(X_test)\n",
        "y_pred_poly"
      ],
      "metadata": {
        "colab": {
          "base_uri": "https://localhost:8080/"
        },
        "id": "8RuDQDe3nM-x",
        "outputId": "ca65d6a7-c1e6-4305-9308-f42f644fe349"
      },
      "execution_count": 26,
      "outputs": [
        {
          "output_type": "execute_result",
          "data": {
            "text/plain": [
              "array([0, 0, 0, 0, 0, 0, 0, 1, 0, 0, 0, 0, 0, 0, 0, 0, 0, 0, 1, 0, 0, 1,\n",
              "       0, 0, 0, 1, 0, 0, 0, 0, 0, 0, 1, 0, 0, 0, 0, 0, 0, 1, 0, 0, 0, 0,\n",
              "       0, 0, 0, 1, 0, 0, 1, 0, 0, 0, 1, 0, 0, 0, 1, 0, 0, 1, 0, 0, 0, 1,\n",
              "       0, 0, 0, 0, 1, 0, 0, 0, 0, 0, 0, 0, 1, 0, 1, 1, 0, 0, 1, 0, 0, 1,\n",
              "       0, 0, 0, 1, 0, 0, 0, 0, 0, 1, 0, 0])"
            ]
          },
          "metadata": {},
          "execution_count": 26
        }
      ]
    },
    {
      "cell_type": "markdown",
      "source": [
        "## RBF kernel"
      ],
      "metadata": {
        "id": "fmQObSwdneoW"
      }
    },
    {
      "cell_type": "code",
      "source": [
        "classifier_rbf= SVC (kernel = 'rbf', random_state = 0)\n",
        "classifier_rbf.fit(X_train, y_train)\n",
        "y_pred_rbf= classifier_rbf.predict(X_test)\n",
        "y_pred_rbf"
      ],
      "metadata": {
        "colab": {
          "base_uri": "https://localhost:8080/"
        },
        "id": "YOnKy5dknihE",
        "outputId": "8deb47ba-2195-43fe-92af-3dbca9e6b85c"
      },
      "execution_count": 29,
      "outputs": [
        {
          "output_type": "execute_result",
          "data": {
            "text/plain": [
              "array([0, 0, 0, 0, 0, 0, 0, 1, 0, 1, 0, 0, 0, 0, 0, 1, 0, 0, 1, 0, 0, 1,\n",
              "       0, 1, 0, 1, 0, 0, 0, 0, 0, 0, 1, 0, 0, 0, 0, 0, 0, 1, 0, 0, 0, 0,\n",
              "       1, 0, 0, 1, 0, 1, 1, 0, 0, 1, 1, 1, 0, 0, 1, 0, 0, 1, 0, 1, 0, 1,\n",
              "       0, 0, 0, 0, 1, 0, 0, 1, 0, 0, 0, 0, 1, 1, 1, 1, 0, 0, 1, 0, 0, 1,\n",
              "       1, 0, 0, 1, 0, 0, 0, 0, 0, 1, 1, 1])"
            ]
          },
          "metadata": {},
          "execution_count": 29
        }
      ]
    },
    {
      "cell_type": "markdown",
      "source": [
        "## The performance will be evaluated on the basis of confusion matrix and classification report."
      ],
      "metadata": {
        "id": "L3T0RYOCnz5N"
      }
    },
    {
      "cell_type": "code",
      "source": [
        "from sklearn.metrics import confusion_matrix"
      ],
      "metadata": {
        "id": "Ll96FRxHn1ZE"
      },
      "execution_count": 30,
      "outputs": []
    },
    {
      "cell_type": "markdown",
      "source": [
        "## Confusion matrix for linear kernel"
      ],
      "metadata": {
        "id": "AFxsRkIan5ud"
      }
    },
    {
      "cell_type": "code",
      "source": [
        "cm_linear = confusion_matrix(y_test, y_pred_linear)\n",
        "cm_linear"
      ],
      "metadata": {
        "colab": {
          "base_uri": "https://localhost:8080/"
        },
        "id": "PT4gfJrSn67F",
        "outputId": "fc98372e-69d8-4736-d144-5589ca02c443"
      },
      "execution_count": 32,
      "outputs": [
        {
          "output_type": "execute_result",
          "data": {
            "text/plain": [
              "array([[66,  2],\n",
              "       [ 8, 24]])"
            ]
          },
          "metadata": {},
          "execution_count": 32
        }
      ]
    },
    {
      "cell_type": "markdown",
      "source": [
        "## Confusion matrix for polynomial kernel"
      ],
      "metadata": {
        "id": "LhqAO3UcoH81"
      }
    },
    {
      "cell_type": "code",
      "source": [
        "cm_poly=confusion_matrix(y_test,y_pred_poly)\n",
        "cm_poly"
      ],
      "metadata": {
        "colab": {
          "base_uri": "https://localhost:8080/"
        },
        "id": "OpsNr6bxoJOt",
        "outputId": "9508eedc-8c2d-4fe6-c234-858e309a9158"
      },
      "execution_count": 34,
      "outputs": [
        {
          "output_type": "execute_result",
          "data": {
            "text/plain": [
              "array([[67,  1],\n",
              "       [13, 19]])"
            ]
          },
          "metadata": {},
          "execution_count": 34
        }
      ]
    },
    {
      "cell_type": "markdown",
      "source": [
        "## Confusion matrix for RBF kernel"
      ],
      "metadata": {
        "id": "ZpVM_ricoQ08"
      }
    },
    {
      "cell_type": "code",
      "source": [
        "cm_rbf=confusion_matrix(y_test,y_pred_rbf)\n",
        "cm_rbf"
      ],
      "metadata": {
        "colab": {
          "base_uri": "https://localhost:8080/"
        },
        "id": "Ev7_efkqoUQd",
        "outputId": "655604b3-b762-4934-eee4-13c712a09f7e"
      },
      "execution_count": 35,
      "outputs": [
        {
          "output_type": "execute_result",
          "data": {
            "text/plain": [
              "array([[64,  4],\n",
              "       [ 3, 29]])"
            ]
          },
          "metadata": {},
          "execution_count": 35
        }
      ]
    },
    {
      "cell_type": "markdown",
      "source": [
        "If we evaluate the model based on the confusion matrix, then we can conclude that the model with the RBF kernel gave us the best result."
      ],
      "metadata": {
        "id": "N5msCfpzooMd"
      }
    },
    {
      "cell_type": "markdown",
      "source": [
        "## Classification report\n",
        "Classification report is an extended metric of confusion matrix which gives an idea about precision and recall. It tells us how well our model is and the exact accuracy of our model."
      ],
      "metadata": {
        "id": "4npd4ssjo3Rk"
      }
    },
    {
      "cell_type": "markdown",
      "source": [
        "## Classification report on linear kernel"
      ],
      "metadata": {
        "id": "zYHWfIWko_nc"
      }
    },
    {
      "cell_type": "code",
      "source": [
        "from sklearn.metrics import classification_report"
      ],
      "metadata": {
        "id": "o0Z5SSfHp86-"
      },
      "execution_count": 42,
      "outputs": []
    },
    {
      "cell_type": "code",
      "source": [
        "class_report_linear = classification_report(y_test, y_pred_linear)\n",
        "class_report_linear"
      ],
      "metadata": {
        "colab": {
          "base_uri": "https://localhost:8080/",
          "height": 53
        },
        "id": "FpRzFEq6o5a2",
        "outputId": "d3aafa62-2cb9-47ea-ec2f-3526b3018c7e"
      },
      "execution_count": 43,
      "outputs": [
        {
          "output_type": "execute_result",
          "data": {
            "text/plain": [
              "'              precision    recall  f1-score   support\\n\\n           0       0.89      0.97      0.93        68\\n           1       0.92      0.75      0.83        32\\n\\n    accuracy                           0.90       100\\n   macro avg       0.91      0.86      0.88       100\\nweighted avg       0.90      0.90      0.90       100\\n'"
            ],
            "application/vnd.google.colaboratory.intrinsic+json": {
              "type": "string"
            }
          },
          "metadata": {},
          "execution_count": 43
        }
      ]
    },
    {
      "cell_type": "markdown",
      "source": [
        "## Classification report on poly kernel"
      ],
      "metadata": {
        "id": "MUzV24f_qNQL"
      }
    },
    {
      "cell_type": "code",
      "source": [
        "class_report_poly = classification_report(y_test,y_pred_poly)\n",
        "class_report_poly"
      ],
      "metadata": {
        "colab": {
          "base_uri": "https://localhost:8080/",
          "height": 53
        },
        "id": "iZyvFGGZqVoL",
        "outputId": "7adbe99a-618f-407b-cc85-33201400626e"
      },
      "execution_count": 45,
      "outputs": [
        {
          "output_type": "execute_result",
          "data": {
            "text/plain": [
              "'              precision    recall  f1-score   support\\n\\n           0       0.84      0.99      0.91        68\\n           1       0.95      0.59      0.73        32\\n\\n    accuracy                           0.86       100\\n   macro avg       0.89      0.79      0.82       100\\nweighted avg       0.87      0.86      0.85       100\\n'"
            ],
            "application/vnd.google.colaboratory.intrinsic+json": {
              "type": "string"
            }
          },
          "metadata": {},
          "execution_count": 45
        }
      ]
    },
    {
      "cell_type": "markdown",
      "source": [
        "## Classification report on RBF kernel"
      ],
      "metadata": {
        "id": "lQbDV3zs0DHm"
      }
    },
    {
      "cell_type": "code",
      "source": [
        "class_report_rbf = classification_report(y_test,y_pred_poly)\n",
        "class_report_rbf"
      ],
      "metadata": {
        "colab": {
          "base_uri": "https://localhost:8080/",
          "height": 53
        },
        "id": "23dHcNZg0IcP",
        "outputId": "f18d10b8-1543-4552-aa8b-7a2a2e35293b"
      },
      "execution_count": 46,
      "outputs": [
        {
          "output_type": "execute_result",
          "data": {
            "text/plain": [
              "'              precision    recall  f1-score   support\\n\\n           0       0.84      0.99      0.91        68\\n           1       0.95      0.59      0.73        32\\n\\n    accuracy                           0.86       100\\n   macro avg       0.89      0.79      0.82       100\\nweighted avg       0.87      0.86      0.85       100\\n'"
            ],
            "application/vnd.google.colaboratory.intrinsic+json": {
              "type": "string"
            }
          },
          "metadata": {},
          "execution_count": 46
        }
      ]
    },
    {
      "cell_type": "markdown",
      "source": [
        "**Even after evaluating based on the classification report, the F1-score seems to be higher in the model with the RBF kernel compared with the other two models. So, the model with the RBF kernel seems to be the winner. But it still depends on the data handling and preprocessing to take an early call.**"
      ],
      "metadata": {
        "id": "Z4oup3df0brr"
      }
    }
  ]
}