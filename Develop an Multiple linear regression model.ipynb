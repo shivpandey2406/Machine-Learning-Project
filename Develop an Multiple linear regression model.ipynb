{
  "nbformat": 4,
  "nbformat_minor": 0,
  "metadata": {
    "colab": {
      "provenance": [],
      "authorship_tag": "ABX9TyO7U5Nc/cKZG2x0zIzJbjd9",
      "include_colab_link": true
    },
    "kernelspec": {
      "name": "python3",
      "display_name": "Python 3"
    },
    "language_info": {
      "name": "python"
    }
  },
  "cells": [
    {
      "cell_type": "markdown",
      "metadata": {
        "id": "view-in-github",
        "colab_type": "text"
      },
      "source": [
        "<a href=\"https://colab.research.google.com/github/shivpandey2406/Machine-Learning-Project/blob/main/Develop%20an%20Multiple%20linear%20regression%20model.ipynb\" target=\"_parent\"><img src=\"https://colab.research.google.com/assets/colab-badge.svg\" alt=\"Open In Colab\"/></a>"
      ]
    },
    {
      "cell_type": "code",
      "source": [
        "import numpy as np\n",
        "import pandas as pd\n",
        "import matplotlib.pyplot as plt\n",
        "import seaborn as sns\n",
        "# prints all columns of a dataframe. Does not truncate them.\n",
        "#pd.set_option('/content/ALLFORMATSPLAYED_CLEANDATA.xlsx', None)\n",
        "\n",
        "master_data = pd.read_excel('/content/ALLFORMATSPLAYED_CLEANDATA.xlsx')\n",
        "\n",
        "# EXPLORATORY DATA ANALYSIS\n",
        "\n",
        "# Number of observations and features\n",
        "print(master_data.shape[0])\n",
        "print(master_data.shape[1])\n",
        "\n"
      ],
      "metadata": {
        "colab": {
          "base_uri": "https://localhost:8080/"
        },
        "id": "DMC2-hM_GLto",
        "outputId": "5410cdcc-611e-46c3-9495-0fabdc402541"
      },
      "execution_count": 2,
      "outputs": [
        {
          "output_type": "stream",
          "name": "stdout",
          "text": [
            "9\n",
            "2\n"
          ]
        }
      ]
    },
    {
      "cell_type": "code",
      "source": [
        "master_data.columns"
      ],
      "metadata": {
        "colab": {
          "base_uri": "https://localhost:8080/"
        },
        "id": "Hcs6yHooJu0_",
        "outputId": "22f6d852-139d-4618-fcf8-82d7028d5692"
      },
      "execution_count": 9,
      "outputs": [
        {
          "output_type": "execute_result",
          "data": {
            "text/plain": [
              "Index(['Player', 'T20_Sum_Minutes', 'T20_Avg_Minutes', 'T20_Min_Minutes',\n",
              "       'T20_Max_Minutes', 'T20_Average_6s', 'T20_Max_BF', 'T20_Average_4s',\n",
              "       'T20_Sum_6s', 'T20_Sum_4s', 'T20_Average_StrikeRate',\n",
              "       'T20_Average_Innings', 'T20_Min_StrikeRate', 'T20_Max_StrikeRate',\n",
              "       'T20_Sum_Innings', 'T20_Sum_Runs', 'T20_Max_6s', 'T20_Max_4s',\n",
              "       'T20_Min_Runs', 'T20_Max_Runs', 'T20_Average_Runs', 'Test_Sum_Minutes',\n",
              "       'Test_Avg_Minutes', 'Test_Min_Minutes', 'Test_Max_Minutes',\n",
              "       'Test_Average_6s', 'Test_Max_BF', 'Test_Average_4s', 'Test_Sum_6s',\n",
              "       'Test_Sum_4s', 'Test_Average_StrikeRate', 'Test_Average_Innings',\n",
              "       'Test_Min_StrikeRate', 'Test_Max_StrikeRate', 'Test_Sum_Innings',\n",
              "       'Test_Sum_Runs', 'Test_Max_6s', 'Test_Max_4s', 'Test_Min_Runs',\n",
              "       'Test_Max_Runs', 'Test_Average_Runs', 'ODI_Sum_Minutes',\n",
              "       'ODI_Avg_Minutes', 'ODI_Min_Minutes', 'ODI_Max_Minutes',\n",
              "       'ODI_Average_6s', 'ODI_Max_BF', 'ODI_Average_4s', 'ODI_Sum_6s',\n",
              "       'ODI_Sum_4s', 'ODI_Average_StrikeRate', 'ODI_Average_Innings',\n",
              "       'ODI_Min_StrikeRate', 'ODI_Max_StrikeRate', 'ODI_Sum_Innings',\n",
              "       'ODI_Sum_Runs', 'ODI_Max_6s', 'ODI_Max_4s', 'ODI_Min_Runs',\n",
              "       'ODI_Max_Runs', 'ODI_Average_Runs', 'AuctionCost'],\n",
              "      dtype='object')"
            ]
          },
          "metadata": {},
          "execution_count": 9
        }
      ]
    },
    {
      "cell_type": "code",
      "source": [
        "# 4. Correlation Heatmap\n",
        "plt.figure(figsize=(6, 6))\n",
        "corr_matrix = master_data[['T20_Sum_Minutes', 'T20_Avg_Minutes', 'T20_Min_Minutes',\n",
        "       'T20_Max_Minutes', 'T20_Average_6s', 'T20_Max_BF', 'T20_Average_4s',\n",
        "       'T20_Sum_6s', 'T20_Sum_4s', 'T20_Average_StrikeRate',\n",
        "       'T20_Average_Innings', 'T20_Min_StrikeRate', 'T20_Max_StrikeRate',\n",
        "       'T20_Sum_Innings', 'T20_Sum_Runs', 'T20_Max_6s', 'T20_Max_4s',\n",
        "       'T20_Min_Runs', 'T20_Max_Runs', 'T20_Average_Runs', 'Test_Sum_Minutes',\n",
        "       'Test_Avg_Minutes', 'Test_Min_Minutes', 'Test_Max_Minutes',\n",
        "       'Test_Average_6s', 'Test_Max_BF', 'Test_Average_4s', 'Test_Sum_6s',\n",
        "       'Test_Sum_4s', 'Test_Average_StrikeRate', 'Test_Average_Innings',\n",
        "       'Test_Min_StrikeRate', 'Test_Max_StrikeRate', 'Test_Sum_Innings',\n",
        "       'Test_Sum_Runs', 'Test_Max_6s', 'Test_Max_4s', 'Test_Min_Runs',\n",
        "       'Test_Max_Runs', 'Test_Average_Runs', 'ODI_Sum_Minutes',\n",
        "       'ODI_Avg_Minutes', 'ODI_Min_Minutes', 'ODI_Max_Minutes',\n",
        "       'ODI_Average_6s', 'ODI_Max_BF', 'ODI_Average_4s', 'ODI_Sum_6s',\n",
        "       'ODI_Sum_4s', 'ODI_Average_StrikeRate', 'ODI_Average_Innings',\n",
        "       'ODI_Min_StrikeRate', 'ODI_Max_StrikeRate', 'ODI_Sum_Innings',\n",
        "       'ODI_Sum_Runs', 'ODI_Max_6s', 'ODI_Max_4s', 'ODI_Min_Runs',\n",
        "       'ODI_Max_Runs', 'ODI_Average_Runs', 'AuctionCost']].corr()\n",
        "#sns.heatmap(corr_matrix, annot=True, cmap='coolwarm', fmt='.2f', cbar=True, linewidths=1)\n",
        "#plt.title('Correlation Heatmap')\n",
        "#plt.show()\n",
        "print(corr_matrix)\n"
      ],
      "metadata": {
        "colab": {
          "base_uri": "https://localhost:8080/",
          "height": 1000
        },
        "id": "_o9OyMsfISpi",
        "outputId": "1e9ecaf2-abf3-4585-84ef-e7d9d22ae1d3"
      },
      "execution_count": 14,
      "outputs": [
        {
          "output_type": "stream",
          "name": "stdout",
          "text": [
            "                  T20_Sum_Minutes  T20_Avg_Minutes  T20_Min_Minutes  \\\n",
            "T20_Sum_Minutes          1.000000         0.663355        -0.160321   \n",
            "T20_Avg_Minutes          0.663355         1.000000         0.369516   \n",
            "T20_Min_Minutes         -0.160321         0.369516         1.000000   \n",
            "T20_Max_Minutes          0.822813         0.874800        -0.049705   \n",
            "T20_Average_6s           0.627265         0.668966        -0.106165   \n",
            "...                           ...              ...              ...   \n",
            "ODI_Max_4s               0.580670         0.487586        -0.229012   \n",
            "ODI_Min_Runs            -0.140368         0.140121         0.360265   \n",
            "ODI_Max_Runs             0.616847         0.525090        -0.192547   \n",
            "ODI_Average_Runs         0.548697         0.574766        -0.151058   \n",
            "AuctionCost              0.087439         0.189856        -0.074097   \n",
            "\n",
            "                  T20_Max_Minutes  T20_Average_6s  T20_Max_BF  T20_Average_4s  \\\n",
            "T20_Sum_Minutes          0.822813        0.627265    0.800511        0.634766   \n",
            "T20_Avg_Minutes          0.874800        0.668966    0.846901        0.900734   \n",
            "T20_Min_Minutes         -0.049705       -0.106165   -0.060963        0.251260   \n",
            "T20_Max_Minutes          1.000000        0.761425    0.978855        0.829317   \n",
            "T20_Average_6s           0.761425        1.000000    0.732993        0.604347   \n",
            "...                           ...             ...         ...             ...   \n",
            "ODI_Max_4s               0.651729        0.503244    0.668475        0.509795   \n",
            "ODI_Min_Runs            -0.065259       -0.040881   -0.061488        0.167326   \n",
            "ODI_Max_Runs             0.680307        0.568195    0.687567        0.523326   \n",
            "ODI_Average_Runs         0.689803        0.571251    0.679914        0.572085   \n",
            "AuctionCost              0.223556        0.204796    0.223813        0.197258   \n",
            "\n",
            "                  T20_Sum_6s  T20_Sum_4s  T20_Average_StrikeRate  ...  \\\n",
            "T20_Sum_Minutes     0.907689    0.972994                0.325543  ...   \n",
            "T20_Avg_Minutes     0.555621    0.655240                0.414285  ...   \n",
            "T20_Min_Minutes    -0.153988   -0.148565               -0.011521  ...   \n",
            "T20_Max_Minutes     0.730278    0.802624                0.455078  ...   \n",
            "T20_Average_6s      0.742171    0.611117                0.511307  ...   \n",
            "...                      ...         ...                     ...  ...   \n",
            "ODI_Max_4s          0.549751    0.595994                0.356019  ...   \n",
            "ODI_Min_Runs       -0.141576   -0.124782               -0.032182  ...   \n",
            "ODI_Max_Runs        0.595093    0.608332                0.392386  ...   \n",
            "ODI_Average_Runs    0.504203    0.546459                0.445374  ...   \n",
            "AuctionCost         0.069142    0.102604                0.135658  ...   \n",
            "\n",
            "                  ODI_Min_StrikeRate  ODI_Max_StrikeRate  ODI_Sum_Innings  \\\n",
            "T20_Sum_Minutes            -0.162200            0.140313         0.558031   \n",
            "T20_Avg_Minutes             0.097562           -0.081720         0.440171   \n",
            "T20_Min_Minutes             0.428843           -0.236004        -0.183210   \n",
            "T20_Max_Minutes            -0.115904            0.074260         0.576614   \n",
            "T20_Average_6s             -0.112584            0.156331         0.381423   \n",
            "...                              ...                 ...              ...   \n",
            "ODI_Max_4s                 -0.363902            0.291339         0.743957   \n",
            "ODI_Min_Runs                0.704522           -0.437568        -0.288419   \n",
            "ODI_Max_Runs               -0.361581            0.272139         0.726019   \n",
            "ODI_Average_Runs           -0.250857            0.118758         0.615123   \n",
            "AuctionCost                -0.004378            0.028721         0.117999   \n",
            "\n",
            "                  ODI_Sum_Runs  ODI_Max_6s  ODI_Max_4s  ODI_Min_Runs  \\\n",
            "T20_Sum_Minutes       0.572579    0.572652    0.580670     -0.140368   \n",
            "T20_Avg_Minutes       0.504115    0.421791    0.487586      0.140121   \n",
            "T20_Min_Minutes      -0.144024   -0.199249   -0.229012      0.360265   \n",
            "T20_Max_Minutes       0.618221    0.581427    0.651729     -0.065259   \n",
            "T20_Average_6s        0.411674    0.568318    0.503244     -0.040881   \n",
            "...                        ...         ...         ...           ...   \n",
            "ODI_Max_4s            0.766776    0.747158    1.000000     -0.338508   \n",
            "ODI_Min_Runs         -0.225038   -0.320865   -0.338508      1.000000   \n",
            "ODI_Max_Runs          0.758550    0.833314    0.944567     -0.317985   \n",
            "ODI_Average_Runs      0.693838    0.718670    0.866834     -0.181307   \n",
            "AuctionCost           0.102930    0.057209    0.182366      0.007198   \n",
            "\n",
            "                  ODI_Max_Runs  ODI_Average_Runs  AuctionCost  \n",
            "T20_Sum_Minutes       0.616847          0.548697     0.087439  \n",
            "T20_Avg_Minutes       0.525090          0.574766     0.189856  \n",
            "T20_Min_Minutes      -0.192547         -0.151058    -0.074097  \n",
            "T20_Max_Minutes       0.680307          0.689803     0.223556  \n",
            "T20_Average_6s        0.568195          0.571251     0.204796  \n",
            "...                        ...               ...          ...  \n",
            "ODI_Max_4s            0.944567          0.866834     0.182366  \n",
            "ODI_Min_Runs         -0.317985         -0.181307     0.007198  \n",
            "ODI_Max_Runs          1.000000          0.920879     0.137446  \n",
            "ODI_Average_Runs      0.920879          1.000000     0.213958  \n",
            "AuctionCost           0.137446          0.213958     1.000000  \n",
            "\n",
            "[61 rows x 61 columns]\n"
          ]
        },
        {
          "output_type": "display_data",
          "data": {
            "text/plain": [
              "<Figure size 600x600 with 0 Axes>"
            ]
          },
          "metadata": {}
        }
      ]
    },
    {
      "cell_type": "code",
      "source": [
        "df = pd.DataFrame(master_data)\n",
        "\n",
        "# Calculate the correlation between the last column and all other columns\n",
        "last_column = df.columns[-1]\n",
        "#correlations = df[last_column].corr(df.drop(last_column, axis=1))\n",
        "\n",
        "# Print the correlations\n",
        "#print(\"Correlation between '{}' and other columns:\".format(last_column))\n",
        "#print(correlations)"
      ],
      "metadata": {
        "id": "nWo9IRK1KpN6"
      },
      "execution_count": 15,
      "outputs": []
    },
    {
      "cell_type": "code",
      "source": [
        "import pandas as pd\n",
        "\n",
        "# Assuming df is our DataFrame\n",
        "\n",
        "# Ensure that df has at least 62 columns\n",
        "\n",
        "# Define the column indices\n",
        "\n",
        "last_column_index = 61  # Python uses 0-based indexing\n",
        "\n",
        "start_column_index = 1  # For column 2\n",
        "\n",
        "end_column_index = 59   # For column 60\n",
        "\n",
        "# Loop through columns 2 to 60 and calculate correlation with the 62nd column\n",
        "\n",
        "for i in range(start_column_index, end_column_index + 1):\n",
        "\n",
        "    column_name = df.columns[i]\n",
        "\n",
        "    last_column_name = df.columns[last_column_index]\n",
        "\n",
        "    # Calculate the correlation\n",
        "\n",
        "    correlation = df.iloc[:, i].corr(df.iloc[:, last_column_index])\n",
        "\n",
        "    print(f\"Correlation between '{column_name}' and '{last_column_name}': {correlation}\")\n",
        "\n",
        ""
      ],
      "metadata": {
        "colab": {
          "base_uri": "https://localhost:8080/"
        },
        "id": "x1Y0TM4rNAQf",
        "outputId": "d5344fe0-7677-4344-cd38-7e310a5c71eb"
      },
      "execution_count": 17,
      "outputs": [
        {
          "output_type": "stream",
          "name": "stdout",
          "text": [
            "Correlation between 'T20_Sum_Minutes' and 'AuctionCost': 0.08743880063638484\n",
            "Correlation between 'T20_Avg_Minutes' and 'AuctionCost': 0.18985643017978981\n",
            "Correlation between 'T20_Min_Minutes' and 'AuctionCost': -0.07409705224465055\n",
            "Correlation between 'T20_Max_Minutes' and 'AuctionCost': 0.22355623121175902\n",
            "Correlation between 'T20_Average_6s' and 'AuctionCost': 0.20479552734998677\n",
            "Correlation between 'T20_Max_BF' and 'AuctionCost': 0.2238125328142464\n",
            "Correlation between 'T20_Average_4s' and 'AuctionCost': 0.19725828855318933\n",
            "Correlation between 'T20_Sum_6s' and 'AuctionCost': 0.06914225135698457\n",
            "Correlation between 'T20_Sum_4s' and 'AuctionCost': 0.10260352418542872\n",
            "Correlation between 'T20_Average_StrikeRate' and 'AuctionCost': 0.13565765932276608\n",
            "Correlation between 'T20_Average_Innings' and 'AuctionCost': 0.07295038041643195\n",
            "Correlation between 'T20_Min_StrikeRate' and 'AuctionCost': -0.17521763141035424\n",
            "Correlation between 'T20_Max_StrikeRate' and 'AuctionCost': 0.201106624168829\n",
            "Correlation between 'T20_Sum_Innings' and 'AuctionCost': 0.10423346260679912\n",
            "Correlation between 'T20_Sum_Runs' and 'AuctionCost': 0.08806614760068987\n",
            "Correlation between 'T20_Max_6s' and 'AuctionCost': 0.10960515934275471\n",
            "Correlation between 'T20_Max_4s' and 'AuctionCost': 0.20802313121781757\n",
            "Correlation between 'T20_Min_Runs' and 'AuctionCost': -0.14113036232626047\n",
            "Correlation between 'T20_Max_Runs' and 'AuctionCost': 0.19578344963115826\n",
            "Correlation between 'T20_Average_Runs' and 'AuctionCost': 0.2028939262187432\n",
            "Correlation between 'Test_Sum_Minutes' and 'AuctionCost': 0.16084530932328817\n",
            "Correlation between 'Test_Avg_Minutes' and 'AuctionCost': 0.10495930584974485\n",
            "Correlation between 'Test_Min_Minutes' and 'AuctionCost': -0.1845902139576467\n",
            "Correlation between 'Test_Max_Minutes' and 'AuctionCost': 0.18519518045968536\n",
            "Correlation between 'Test_Average_6s' and 'AuctionCost': 0.12088566434487703\n",
            "Correlation between 'Test_Max_BF' and 'AuctionCost': 0.1806923094189327\n",
            "Correlation between 'Test_Average_4s' and 'AuctionCost': 0.12147445939561809\n",
            "Correlation between 'Test_Sum_6s' and 'AuctionCost': 0.17243536816729796\n",
            "Correlation between 'Test_Sum_4s' and 'AuctionCost': 0.17892310152908805\n",
            "Correlation between 'Test_Average_StrikeRate' and 'AuctionCost': 0.178817359793946\n",
            "Correlation between 'Test_Average_Innings' and 'AuctionCost': 0.090003578218202\n",
            "Correlation between 'Test_Min_StrikeRate' and 'AuctionCost': -0.1510994068647607\n",
            "Correlation between 'Test_Max_StrikeRate' and 'AuctionCost': 0.2552452996661288\n",
            "Correlation between 'Test_Sum_Innings' and 'AuctionCost': 0.17292971135342805\n",
            "Correlation between 'Test_Sum_Runs' and 'AuctionCost': 0.17462263705754225\n",
            "Correlation between 'Test_Max_6s' and 'AuctionCost': 0.33794719576661975\n",
            "Correlation between 'Test_Max_4s' and 'AuctionCost': 0.23708837474519312\n",
            "Correlation between 'Test_Min_Runs' and 'AuctionCost': -0.14975655472629776\n",
            "Correlation between 'Test_Max_Runs' and 'AuctionCost': 0.26441817117309\n",
            "Correlation between 'Test_Average_Runs' and 'AuctionCost': 0.15312748313969576\n",
            "Correlation between 'ODI_Sum_Minutes' and 'AuctionCost': 0.10702151427860311\n",
            "Correlation between 'ODI_Avg_Minutes' and 'AuctionCost': 0.19414798419008905\n",
            "Correlation between 'ODI_Min_Minutes' and 'AuctionCost': -0.04465081870273181\n",
            "Correlation between 'ODI_Max_Minutes' and 'AuctionCost': 0.18948063393994424\n",
            "Correlation between 'ODI_Average_6s' and 'AuctionCost': 0.17761634707492693\n",
            "Correlation between 'ODI_Max_BF' and 'AuctionCost': 0.1708347434722923\n",
            "Correlation between 'ODI_Average_4s' and 'AuctionCost': 0.18381170293255983\n",
            "Correlation between 'ODI_Sum_6s' and 'AuctionCost': 0.08310608960728193\n",
            "Correlation between 'ODI_Sum_4s' and 'AuctionCost': 0.09283338274148097\n",
            "Correlation between 'ODI_Average_StrikeRate' and 'AuctionCost': 0.14138475707529533\n",
            "Correlation between 'ODI_Average_Innings' and 'AuctionCost': 0.1251356100706691\n",
            "Correlation between 'ODI_Min_StrikeRate' and 'AuctionCost': -0.0043781810821964025\n",
            "Correlation between 'ODI_Max_StrikeRate' and 'AuctionCost': 0.028721492836123217\n",
            "Correlation between 'ODI_Sum_Innings' and 'AuctionCost': 0.11799940818560074\n",
            "Correlation between 'ODI_Sum_Runs' and 'AuctionCost': 0.10292952519388825\n",
            "Correlation between 'ODI_Max_6s' and 'AuctionCost': 0.05720929650080946\n",
            "Correlation between 'ODI_Max_4s' and 'AuctionCost': 0.18236559758878773\n",
            "Correlation between 'ODI_Min_Runs' and 'AuctionCost': 0.007197629700765438\n",
            "Correlation between 'ODI_Max_Runs' and 'AuctionCost': 0.1374463913795315\n"
          ]
        }
      ]
    },
    {
      "cell_type": "code",
      "source": [
        "import pandas as pd\n",
        "\n",
        "# Assuming df is your DataFrame\n",
        "# Ensure that df has at least 62 columns\n",
        "\n",
        "# Define the column indices\n",
        "last_column_index = 61  # Python uses 0-based indexing\n",
        "start_column_index = 1  # For column 2\n",
        "end_column_index = 59   # For column 60\n",
        "\n",
        "# Dictionary to store correlations\n",
        "correlations = {}\n",
        "\n",
        "# Loop through columns 2 to 60 and calculate correlation with the 62nd column\n",
        "for i in range(start_column_index, end_column_index + 1):\n",
        "    column_name = df.columns[i]\n",
        "    last_column_name = df.columns[last_column_index]\n",
        "    # Calculate the correlation\n",
        "    correlation = df.iloc[:, i].corr(df.iloc[:, last_column_index])\n",
        "    correlations[column_name] = correlation\n",
        "\n",
        "# Sort the correlations\n",
        "sorted_correlations = sorted(correlations.items(), key=lambda x: abs(x[1]), reverse=True)\n",
        "\n",
        "# Print the sorted correlations\n",
        "print(\"Sorted Correlations:\")\n",
        "for column, corr in sorted_correlations:\n",
        "    print(f\"Correlation between '{column}' and '{last_column_name}': {corr}\")"
      ],
      "metadata": {
        "colab": {
          "base_uri": "https://localhost:8080/"
        },
        "id": "uchUfu2KOEzA",
        "outputId": "cf8bd2d2-213f-4448-8216-c4dd4f74c65c"
      },
      "execution_count": 20,
      "outputs": [
        {
          "output_type": "stream",
          "name": "stdout",
          "text": [
            "Sorted Correlations:\n",
            "Correlation between 'Test_Max_6s' and 'AuctionCost': 0.33794719576661975\n",
            "Correlation between 'Test_Max_Runs' and 'AuctionCost': 0.26441817117309\n",
            "Correlation between 'Test_Max_StrikeRate' and 'AuctionCost': 0.2552452996661288\n",
            "Correlation between 'Test_Max_4s' and 'AuctionCost': 0.23708837474519312\n",
            "Correlation between 'T20_Max_BF' and 'AuctionCost': 0.2238125328142464\n",
            "Correlation between 'T20_Max_Minutes' and 'AuctionCost': 0.22355623121175902\n",
            "Correlation between 'T20_Max_4s' and 'AuctionCost': 0.20802313121781757\n",
            "Correlation between 'T20_Average_6s' and 'AuctionCost': 0.20479552734998677\n",
            "Correlation between 'T20_Average_Runs' and 'AuctionCost': 0.2028939262187432\n",
            "Correlation between 'T20_Max_StrikeRate' and 'AuctionCost': 0.201106624168829\n",
            "Correlation between 'T20_Average_4s' and 'AuctionCost': 0.19725828855318933\n",
            "Correlation between 'T20_Max_Runs' and 'AuctionCost': 0.19578344963115826\n",
            "Correlation between 'ODI_Avg_Minutes' and 'AuctionCost': 0.19414798419008905\n",
            "Correlation between 'T20_Avg_Minutes' and 'AuctionCost': 0.18985643017978981\n",
            "Correlation between 'ODI_Max_Minutes' and 'AuctionCost': 0.18948063393994424\n",
            "Correlation between 'Test_Max_Minutes' and 'AuctionCost': 0.18519518045968536\n",
            "Correlation between 'Test_Min_Minutes' and 'AuctionCost': -0.1845902139576467\n",
            "Correlation between 'ODI_Average_4s' and 'AuctionCost': 0.18381170293255983\n",
            "Correlation between 'ODI_Max_4s' and 'AuctionCost': 0.18236559758878773\n",
            "Correlation between 'Test_Max_BF' and 'AuctionCost': 0.1806923094189327\n",
            "Correlation between 'Test_Sum_4s' and 'AuctionCost': 0.17892310152908805\n",
            "Correlation between 'Test_Average_StrikeRate' and 'AuctionCost': 0.178817359793946\n",
            "Correlation between 'ODI_Average_6s' and 'AuctionCost': 0.17761634707492693\n",
            "Correlation between 'T20_Min_StrikeRate' and 'AuctionCost': -0.17521763141035424\n",
            "Correlation between 'Test_Sum_Runs' and 'AuctionCost': 0.17462263705754225\n",
            "Correlation between 'Test_Sum_Innings' and 'AuctionCost': 0.17292971135342805\n",
            "Correlation between 'Test_Sum_6s' and 'AuctionCost': 0.17243536816729796\n",
            "Correlation between 'ODI_Max_BF' and 'AuctionCost': 0.1708347434722923\n",
            "Correlation between 'Test_Sum_Minutes' and 'AuctionCost': 0.16084530932328817\n",
            "Correlation between 'Test_Average_Runs' and 'AuctionCost': 0.15312748313969576\n",
            "Correlation between 'Test_Min_StrikeRate' and 'AuctionCost': -0.1510994068647607\n",
            "Correlation between 'Test_Min_Runs' and 'AuctionCost': -0.14975655472629776\n",
            "Correlation between 'ODI_Average_StrikeRate' and 'AuctionCost': 0.14138475707529533\n",
            "Correlation between 'T20_Min_Runs' and 'AuctionCost': -0.14113036232626047\n",
            "Correlation between 'ODI_Max_Runs' and 'AuctionCost': 0.1374463913795315\n",
            "Correlation between 'T20_Average_StrikeRate' and 'AuctionCost': 0.13565765932276608\n",
            "Correlation between 'ODI_Average_Innings' and 'AuctionCost': 0.1251356100706691\n",
            "Correlation between 'Test_Average_4s' and 'AuctionCost': 0.12147445939561809\n",
            "Correlation between 'Test_Average_6s' and 'AuctionCost': 0.12088566434487703\n",
            "Correlation between 'ODI_Sum_Innings' and 'AuctionCost': 0.11799940818560074\n",
            "Correlation between 'T20_Max_6s' and 'AuctionCost': 0.10960515934275471\n",
            "Correlation between 'ODI_Sum_Minutes' and 'AuctionCost': 0.10702151427860311\n",
            "Correlation between 'Test_Avg_Minutes' and 'AuctionCost': 0.10495930584974485\n",
            "Correlation between 'T20_Sum_Innings' and 'AuctionCost': 0.10423346260679912\n",
            "Correlation between 'ODI_Sum_Runs' and 'AuctionCost': 0.10292952519388825\n",
            "Correlation between 'T20_Sum_4s' and 'AuctionCost': 0.10260352418542872\n",
            "Correlation between 'ODI_Sum_4s' and 'AuctionCost': 0.09283338274148097\n",
            "Correlation between 'Test_Average_Innings' and 'AuctionCost': 0.090003578218202\n",
            "Correlation between 'T20_Sum_Runs' and 'AuctionCost': 0.08806614760068987\n",
            "Correlation between 'T20_Sum_Minutes' and 'AuctionCost': 0.08743880063638484\n",
            "Correlation between 'ODI_Sum_6s' and 'AuctionCost': 0.08310608960728193\n",
            "Correlation between 'T20_Min_Minutes' and 'AuctionCost': -0.07409705224465055\n",
            "Correlation between 'T20_Average_Innings' and 'AuctionCost': 0.07295038041643195\n",
            "Correlation between 'T20_Sum_6s' and 'AuctionCost': 0.06914225135698457\n",
            "Correlation between 'ODI_Max_6s' and 'AuctionCost': 0.05720929650080946\n",
            "Correlation between 'ODI_Min_Minutes' and 'AuctionCost': -0.04465081870273181\n",
            "Correlation between 'ODI_Max_StrikeRate' and 'AuctionCost': 0.028721492836123217\n",
            "Correlation between 'ODI_Min_Runs' and 'AuctionCost': 0.007197629700765438\n",
            "Correlation between 'ODI_Min_StrikeRate' and 'AuctionCost': -0.0043781810821964025\n"
          ]
        }
      ]
    },
    {
      "cell_type": "code",
      "source": [
        "import pandas as pd\n",
        "\n",
        "from sklearn.model_selection import train_test_split\n",
        "\n",
        "from sklearn.linear_model import LinearRegression\n",
        "\n",
        "from sklearn.metrics import mean_squared_error, r2_score\n",
        "\n",
        "# Assuming df is your DataFrame\n",
        "\n",
        "# Ensure that df has at least 61 columns\n",
        "\n",
        "# Define the column indices\n",
        "\n",
        "last_column_index = 60  # Python uses 0-based indexing\n",
        "\n",
        "start_column_index = 1  # For column 2\n",
        "\n",
        "end_column_index = 59   # For column 60\n",
        "\n",
        "# Prepare the data\n",
        "\n",
        "X = df.iloc[:, start_column_index:end_column_index + 1]  # Independent variables\n",
        "\n",
        "y = df.iloc[:, last_column_index]  # Dependent variable\n",
        "\n",
        "# Split the data into training and testing sets\n",
        "\n",
        "X_train, X_test, y_train, y_test = train_test_split(X, y, test_size=0.2, random_state=42)\n",
        "\n",
        "# Create and fit the model\n",
        "\n",
        "model = LinearRegression()\n",
        "\n",
        "model.fit(X_train, y_train)\n",
        "\n",
        "# Make predictions\n",
        "\n",
        "y_pred = model.predict(X_test)\n",
        "\n",
        "# Evaluate the model\n",
        "\n",
        "print(\"Mean Squared Error:\", mean_squared_error(y_test, y_pred))\n",
        "\n",
        "print(\"R-squared:\", r2_score(y_test, y_pred))\n",
        "\n",
        "# Get coefficients and intercept\n",
        "\n",
        "print(\"Coefficients:\", model.coef_)\n",
        "\n",
        "print(\"Intercept:\", model.intercept_)\n",
        "\n",
        ""
      ],
      "metadata": {
        "colab": {
          "base_uri": "https://localhost:8080/"
        },
        "id": "6NAFd0IjRhj5",
        "outputId": "3599e859-1e38-44ea-e8cb-d7686d7082f6"
      },
      "execution_count": 21,
      "outputs": [
        {
          "output_type": "stream",
          "name": "stdout",
          "text": [
            "Mean Squared Error: 26.055188099362127\n",
            "R-squared: 0.7410979774797651\n",
            "Coefficients: [-4.40222962e-03  1.89569062e-01  4.14929837e-02 -1.87145627e-02\n",
            " -9.85421774e-01 -5.70147120e-02 -7.30816334e-01  1.60804186e-02\n",
            "  1.86992839e-02  2.56686329e-02  3.33481571e-01  3.85073512e-03\n",
            " -6.68835520e-03  2.81739725e-03  2.91450058e-03  8.87394238e-02\n",
            " -2.99153722e-02 -5.66008498e-01  2.80982134e-02 -8.40145850e-02\n",
            "  5.60011157e-04 -9.78064924e-03 -8.21440605e-03 -7.00151405e-03\n",
            "  3.42021131e-01  2.69088773e-04  1.18043220e+00 -7.83898414e-02\n",
            "  1.31951244e-02  1.64103783e-02 -7.82155389e-01  4.08579213e-02\n",
            " -2.47964478e-03 -3.79410833e-03 -2.42204145e-03  4.32902007e-01\n",
            " -2.16963252e-01 -2.12964464e-01  2.55120735e-02 -1.33896252e-03\n",
            " -3.23019964e-03  2.76279321e-01 -7.37604831e-02 -5.81961088e-02\n",
            "  3.43647055e+00  7.61188350e-02  5.23690271e+00 -2.23759013e-02\n",
            " -3.55464036e-02  5.80266257e-03 -1.48096549e+00  1.20099456e-02\n",
            "  2.20111688e-03  2.69809621e-02  8.41941749e-03 -4.02647145e-01\n",
            " -3.86210181e-01 -7.14675422e-02  4.64182904e-02]\n",
            "Intercept: 0.13550472154763327\n"
          ]
        }
      ]
    }
  ]
}